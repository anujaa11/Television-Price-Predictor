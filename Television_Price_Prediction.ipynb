{
 "cells": [
  {
   "cell_type": "code",
   "execution_count": 1,
   "id": "cd39573b",
   "metadata": {},
   "outputs": [],
   "source": [
    "import pandas as pd"
   ]
  },
  {
   "cell_type": "code",
   "execution_count": 2,
   "id": "72ad263d",
   "metadata": {},
   "outputs": [],
   "source": [
    "df = pd.read_csv(\"Dataset.csv\")"
   ]
  },
  {
   "cell_type": "code",
   "execution_count": 3,
   "id": "8020709f",
   "metadata": {},
   "outputs": [],
   "source": [
    "# Drop rows where all columns are NaN\n",
    "df.dropna(how='all', inplace=True)\n"
   ]
  },
  {
   "cell_type": "code",
   "execution_count": 4,
   "id": "a82b3e00",
   "metadata": {},
   "outputs": [],
   "source": [
    "df = df.drop_duplicates(subset='title', keep=False)"
   ]
  },
  {
   "cell_type": "code",
   "execution_count": 5,
   "id": "0683839c",
   "metadata": {},
   "outputs": [
    {
     "name": "stdout",
     "output_type": "stream",
     "text": [
      "<class 'pandas.core.frame.DataFrame'>\n",
      "Int64Index: 358 entries, 0 to 357\n",
      "Data columns (total 11 columns):\n",
      " #   Column                    Non-Null Count  Dtype \n",
      "---  ------                    --------------  ----- \n",
      " 0   title                     358 non-null    object\n",
      " 1   deal_price                358 non-null    object\n",
      " 2   screen_type               358 non-null    object\n",
      " 3   hdmi_count                358 non-null    int64 \n",
      " 4   usb_count                 358 non-null    int64 \n",
      " 5   os                        358 non-null    object\n",
      " 6   smart_tv                  358 non-null    object\n",
      " 7   display_size              358 non-null    object\n",
      " 8   hd_technology_resolution  358 non-null    object\n",
      " 9   launch_year               358 non-null    int64 \n",
      " 10  model_name                358 non-null    object\n",
      "dtypes: int64(3), object(8)\n",
      "memory usage: 33.6+ KB\n"
     ]
    }
   ],
   "source": [
    "df.info()\n"
   ]
  },
  {
   "cell_type": "code",
   "execution_count": 6,
   "id": "64d1fd43",
   "metadata": {},
   "outputs": [],
   "source": [
    "# Removing currency symbol and making column to int and rename the column to price\n",
    "df['deal_price'] = df['deal_price'].str.replace('₹', '').str.replace(',', '', regex=True).astype('int64')\n",
    "df.rename(columns={'deal_price': 'Price'}, inplace=True)"
   ]
  },
  {
   "cell_type": "code",
   "execution_count": 7,
   "id": "6f0d449a",
   "metadata": {},
   "outputs": [],
   "source": [
    "import re\n",
    "# Extract content within parentheses and create a new column 'Display size (inch)' (case-insensitive)\n",
    "df['Display size (inch)'] = df['display_size'].str.extract(r'\\((\\d+) Inch\\)', flags=re.IGNORECASE).astype('int64')\n"
   ]
  },
  {
   "cell_type": "code",
   "execution_count": 8,
   "id": "65dc437a",
   "metadata": {},
   "outputs": [],
   "source": [
    "df['Display size (cm)'] = df['display_size'].str.extract(r'(\\d+\\.\\d+|\\d+)').apply(pd.to_numeric)\n",
    "# Drop the 'display_size' column\n",
    "df = df.drop(columns=['display_size'])"
   ]
  },
  {
   "cell_type": "code",
   "execution_count": 9,
   "id": "69afaef8",
   "metadata": {},
   "outputs": [],
   "source": [
    "\n",
    "# Extract the first word from each 'title' and save it to a new 'Brand' column\n",
    "df['Brand'] = df['title'].str.split().str[0]\n"
   ]
  },
  {
   "cell_type": "code",
   "execution_count": 10,
   "id": "e9664e6d",
   "metadata": {},
   "outputs": [],
   "source": [
    "# Drop the 'hd_technology_resolution' column\n",
    "df.drop(columns=['title'], inplace=True)"
   ]
  },
  {
   "cell_type": "code",
   "execution_count": 11,
   "id": "5d78f9c6",
   "metadata": {},
   "outputs": [],
   "source": [
    "# Replace \"Linux based\" with \"Linux\" and \"Android based\" with \"Android\" in the 'os' column\n",
    "df['os'] = df['os'].replace({'Linux based': 'Linux', 'Android based': 'Android'})"
   ]
  },
  {
   "cell_type": "code",
   "execution_count": 12,
   "id": "cab6a25d",
   "metadata": {},
   "outputs": [
    {
     "data": {
      "text/plain": [
       "Price                       0\n",
       "screen_type                 0\n",
       "hdmi_count                  0\n",
       "usb_count                   0\n",
       "os                          0\n",
       "smart_tv                    0\n",
       "hd_technology_resolution    0\n",
       "launch_year                 0\n",
       "model_name                  0\n",
       "Display size (inch)         0\n",
       "Display size (cm)           0\n",
       "Brand                       0\n",
       "dtype: int64"
      ]
     },
     "execution_count": 12,
     "metadata": {},
     "output_type": "execute_result"
    }
   ],
   "source": [
    "df.isnull().sum() # finding os from other website"
   ]
  },
  {
   "cell_type": "code",
   "execution_count": 13,
   "id": "96892aae",
   "metadata": {},
   "outputs": [],
   "source": [
    "# Split the column into two parts before and after the comma\n",
    "df['Resolution_Type'] = df['hd_technology_resolution'].str.split(',', 1, expand=True)[0]\n",
    "\n",
    "# Drop the original 'hd_technology_resolution' column\n",
    "df.drop(columns=['hd_technology_resolution'], inplace=True)"
   ]
  },
  {
   "cell_type": "code",
   "execution_count": 14,
   "id": "2f610bbc",
   "metadata": {},
   "outputs": [],
   "source": [
    "# Create a mapping of resolution names to pixel values\n",
    "resolution_mapping = {\n",
    "    'HD Ready': (1280, 720),\n",
    "    'Full HD': (1920, 1080),\n",
    "    'Ultra HD (4K)': (3840, 2160),\n",
    "    'Ultra HD (8K)': (7680, 4320),\n",
    "    'SD': (720, 480)\n",
    "}\n",
    "\n",
    "# Replace 'YourColumnName' with the actual column name in your DataFrame\n",
    "df[['X_Pixel', 'Y_Pixel']] = df['Resolution_Type'].map(resolution_mapping).apply(pd.Series).astype('int')"
   ]
  },
  {
   "cell_type": "code",
   "execution_count": 15,
   "id": "e18b423f",
   "metadata": {},
   "outputs": [],
   "source": [
    "# Reverse the order of columns in the DataFrame\n",
    "df = df[df.columns[::-1]]"
   ]
  },
  {
   "cell_type": "code",
   "execution_count": 16,
   "id": "908f21f7",
   "metadata": {},
   "outputs": [],
   "source": [
    "duplicate_rows = df[df.duplicated(keep=False)]"
   ]
  },
  {
   "cell_type": "code",
   "execution_count": 17,
   "id": "11a79eb8",
   "metadata": {},
   "outputs": [],
   "source": [
    "duplicate_rows\n",
    "df.to_csv(\"Data Cleaning.csv\", header=True, index=False)"
   ]
  },
  {
   "cell_type": "code",
   "execution_count": 18,
   "id": "d41ac5e4",
   "metadata": {},
   "outputs": [],
   "source": [
    "import pandas as pd\n",
    "import numpy as np\n",
    "import seaborn as sns\n",
    "import matplotlib.pyplot as plt\n",
    "\n",
    "df=pd.read_csv(\"Data Cleaning.csv\")"
   ]
  },
  {
   "cell_type": "code",
   "execution_count": 19,
   "id": "1d4657f7",
   "metadata": {},
   "outputs": [
    {
     "name": "stderr",
     "output_type": "stream",
     "text": [
      "D:\\anaconda3\\lib\\site-packages\\seaborn\\distributions.py:2619: FutureWarning: `distplot` is a deprecated function and will be removed in a future version. Please adapt your code to use either `displot` (a figure-level function with similar flexibility) or `histplot` (an axes-level function for histograms).\n",
      "  warnings.warn(msg, FutureWarning)\n"
     ]
    },
    {
     "data": {
      "text/plain": [
       "<AxesSubplot:xlabel='Price', ylabel='Density'>"
      ]
     },
     "execution_count": 19,
     "metadata": {},
     "output_type": "execute_result"
    },
    {
     "data": {
      "image/png": "[encoded data removed]",
      "text/plain": [
       "<Figure size 432x288 with 1 Axes>"
      ]
     },
     "metadata": {
      "needs_background": "light"
     },
     "output_type": "display_data"
    }
   ],
   "source": [
    "sns.distplot(df['Price'])"
   ]
  },
  {
   "cell_type": "code",
   "execution_count": 20,
   "id": "a67fa299",
   "metadata": {},
   "outputs": [
    {
     "data": {
      "image/png": "[encoded data removed]",
      "text/plain": [
       "<Figure size 936x432 with 1 Axes>"
      ]
     },
     "metadata": {
      "needs_background": "light"
     },
     "output_type": "display_data"
    }
   ],
   "source": [
    "#Brand Count\n",
    "brand_counts = df['Brand'].value_counts()\n",
    "\n",
    "# Create a bar graph\n",
    "plt.figure(figsize=(13, 6))  # Adjust the figure size as needed\n",
    "brand_counts.plot(kind='bar')\n",
    "plt.title('Brand Distribution')\n",
    "plt.xlabel('Brand')\n",
    "plt.ylabel('Count')\n",
    "plt.show()"
   ]
  },
  {
   "cell_type": "code",
   "execution_count": 21,
   "id": "91b8a296",
   "metadata": {},
   "outputs": [
    {
     "data": {
      "text/plain": [
       "LG           54\n",
       "SAMSUNG      42\n",
       "SONY         30\n",
       "Panasonic    11\n",
       "Hisense      11\n",
       "             ..\n",
       "V-SKY         1\n",
       "NU            1\n",
       "PHILIPS       1\n",
       "Candes        1\n",
       "EGOTEL        1\n",
       "Name: Brand, Length: 69, dtype: int64"
      ]
     },
     "execution_count": 21,
     "metadata": {},
     "output_type": "execute_result"
    }
   ],
   "source": [
    "df['Brand'].value_counts()"
   ]
  },
  {
   "cell_type": "code",
   "execution_count": 22,
   "id": "daacd332",
   "metadata": {
    "scrolled": true
   },
   "outputs": [
    {
     "name": "stdout",
     "output_type": "stream",
     "text": [
      "JVC\n",
      "Cellecor\n",
      "AGE\n",
      "Uniboom\n",
      "SNS\n",
      "QVA\n",
      "IVEE\n",
      "STARSHINE\n",
      "INVANTER\n",
      "BeethoSOL\n",
      "REDMI\n",
      "Krisa\n",
      "LumX\n",
      "realme\n",
      "Feltron\n",
      "V-SKY\n",
      "NU\n",
      "PHILIPS\n",
      "Candes\n",
      "EGOTEL\n"
     ]
    }
   ],
   "source": [
    "brand_counts = df['Brand'].value_counts()\n",
    "\n",
    "# Print brands with a count of 1\n",
    "unique_brands = brand_counts[brand_counts == 1].index\n",
    "\n",
    "for brand in unique_brands:\n",
    "    print(brand)"
   ]
  },
  {
   "cell_type": "code",
   "execution_count": 23,
   "id": "10792512",
   "metadata": {},
   "outputs": [],
   "source": [
    "# Define the cat_os function\n",
    "def cat_brand(inp):\n",
    "    \n",
    "    if inp in ['JVC','Cellecor','AGE','Uniboom','SNS','QVA','IVEE','STARSHINE','INVANTER','BeethoSOL','REDMI','Krisa','LumX','realme',\n",
    "    'Feltron',\n",
    "    'V-SKY',\n",
    "    'NU',\n",
    "    'PHILIPS',\n",
    "    'Candes',\n",
    "    'EGOTEL']:\n",
    "        return 'Others'\n",
    "    else:\n",
    "        return inp\n",
    "\n",
    "# Apply the function to the 'OS' column\n",
    "df['Brand'] = df['Brand'].apply(cat_brand)"
   ]
  },
  {
   "cell_type": "code",
   "execution_count": 24,
   "id": "50382cea",
   "metadata": {},
   "outputs": [
    {
     "data": {
      "image/png": "[encoded data removed]",
      "text/plain": [
       "<Figure size 1008x576 with 1 Axes>"
      ]
     },
     "metadata": {
      "needs_background": "light"
     },
     "output_type": "display_data"
    }
   ],
   "source": [
    "plt.figure(figsize=(14, 8))  # Adjust the figure size as needed\n",
    "sns.barplot(x='Brand', y='Price', data=df)  \n",
    "plt.title('Brand Price Comparison')\n",
    "plt.xlabel('Brand')\n",
    "plt.ylabel('Price')\n",
    "plt.xticks(rotation=90)  # Rotate x-axis labels if needed\n",
    "plt.show()\n"
   ]
  },
  {
   "cell_type": "code",
   "execution_count": 25,
   "id": "6f78c79b",
   "metadata": {},
   "outputs": [
    {
     "name": "stderr",
     "output_type": "stream",
     "text": [
      "D:\\anaconda3\\lib\\site-packages\\seaborn\\distributions.py:2619: FutureWarning: `distplot` is a deprecated function and will be removed in a future version. Please adapt your code to use either `displot` (a figure-level function with similar flexibility) or `histplot` (an axes-level function for histograms).\n",
      "  warnings.warn(msg, FutureWarning)\n"
     ]
    },
    {
     "data": {
      "text/plain": [
       "<AxesSubplot:xlabel='Display size (inch)', ylabel='Density'>"
      ]
     },
     "execution_count": 25,
     "metadata": {},
     "output_type": "execute_result"
    },
    {
     "data": {
      "image/png": "[encoded data removed]",
      "text/plain": [
       "<Figure size 432x288 with 1 Axes>"
      ]
     },
     "metadata": {
      "needs_background": "light"
     },
     "output_type": "display_data"
    }
   ],
   "source": [
    "sns.distplot(df['Display size (inch)'])"
   ]
  },
  {
   "cell_type": "code",
   "execution_count": 26,
   "id": "6c2e5339",
   "metadata": {},
   "outputs": [
    {
     "name": "stderr",
     "output_type": "stream",
     "text": [
      "D:\\anaconda3\\lib\\site-packages\\seaborn\\distributions.py:2619: FutureWarning: `distplot` is a deprecated function and will be removed in a future version. Please adapt your code to use either `displot` (a figure-level function with similar flexibility) or `histplot` (an axes-level function for histograms).\n",
      "  warnings.warn(msg, FutureWarning)\n"
     ]
    },
    {
     "data": {
      "text/plain": [
       "<AxesSubplot:xlabel='Display size (cm)', ylabel='Density'>"
      ]
     },
     "execution_count": 26,
     "metadata": {},
     "output_type": "execute_result"
    },
    {
     "data": {
      "image/png": "[encoded data removed]",
      "text/plain": [
       "<Figure size 432x288 with 1 Axes>"
      ]
     },
     "metadata": {
      "needs_background": "light"
     },
     "output_type": "display_data"
    }
   ],
   "source": [
    "sns.distplot(df['Display size (cm)'])"
   ]
  },
  {
   "cell_type": "code",
   "execution_count": 27,
   "id": "e6ce9796",
   "metadata": {},
   "outputs": [],
   "source": [
    "df['launch_year']=df['launch_year'].astype('int64')"
   ]
  },
  {
   "cell_type": "code",
   "execution_count": 28,
   "id": "c93518b1",
   "metadata": {},
   "outputs": [
    {
     "name": "stderr",
     "output_type": "stream",
     "text": [
      "D:\\anaconda3\\lib\\site-packages\\seaborn\\distributions.py:2619: FutureWarning: `distplot` is a deprecated function and will be removed in a future version. Please adapt your code to use either `displot` (a figure-level function with similar flexibility) or `histplot` (an axes-level function for histograms).\n",
      "  warnings.warn(msg, FutureWarning)\n"
     ]
    },
    {
     "data": {
      "text/plain": [
       "<AxesSubplot:xlabel='launch_year', ylabel='Density'>"
      ]
     },
     "execution_count": 28,
     "metadata": {},
     "output_type": "execute_result"
    },
    {
     "data": {
      "image/png": "[encoded data removed]",
      "text/plain": [
       "<Figure size 432x288 with 1 Axes>"
      ]
     },
     "metadata": {
      "needs_background": "light"
     },
     "output_type": "display_data"
    }
   ],
   "source": [
    "sns.distplot(df['launch_year'])"
   ]
  },
  {
   "cell_type": "code",
   "execution_count": 29,
   "id": "6bd76565",
   "metadata": {},
   "outputs": [
    {
     "data": {
      "image/png": "[encoded data removed]",
      "text/plain": [
       "<Figure size 432x288 with 1 Axes>"
      ]
     },
     "metadata": {
      "needs_background": "light"
     },
     "output_type": "display_data"
    }
   ],
   "source": [
    "counts = df['smart_tv'].value_counts()\n",
    "counts.plot(kind='bar')\n",
    "plt.show()"
   ]
  },
  {
   "cell_type": "code",
   "execution_count": 30,
   "id": "fd65f90e",
   "metadata": {},
   "outputs": [],
   "source": [
    "# Replace \"yes\" with 1 and \"no\" with 0\n",
    "df['smart_tv'] = df['smart_tv'].map({'Yes': 1, 'No': 0})"
   ]
  },
  {
   "cell_type": "code",
   "execution_count": 31,
   "id": "c28c540e",
   "metadata": {},
   "outputs": [
    {
     "data": {
      "text/plain": [
       "1    338\n",
       "0     20\n",
       "Name: smart_tv, dtype: int64"
      ]
     },
     "execution_count": 31,
     "metadata": {},
     "output_type": "execute_result"
    }
   ],
   "source": [
    "df['smart_tv'].value_counts()"
   ]
  },
  {
   "cell_type": "code",
   "execution_count": 32,
   "id": "059628b2",
   "metadata": {},
   "outputs": [
    {
     "data": {
      "image/png": "[encoded data removed]",
      "text/plain": [
       "<Figure size 1008x576 with 1 Axes>"
      ]
     },
     "metadata": {
      "needs_background": "light"
     },
     "output_type": "display_data"
    }
   ],
   "source": [
    "plt.figure(figsize=(14, 8))  # Adjust the figure size as needed\n",
    "sns.barplot(x='smart_tv', y='Price', data=df)  \n",
    "plt.xlabel('smart_tv')\n",
    "plt.ylabel('Price')\n",
    "plt.xticks(rotation=90)  # Rotate x-axis labels if needed\n",
    "plt.show()"
   ]
  },
  {
   "cell_type": "code",
   "execution_count": 33,
   "id": "dbd919d7",
   "metadata": {},
   "outputs": [
    {
     "data": {
      "image/png": "[encoded data removed]",
      "text/plain": [
       "<Figure size 432x288 with 1 Axes>"
      ]
     },
     "metadata": {
      "needs_background": "light"
     },
     "output_type": "display_data"
    }
   ],
   "source": [
    "counts = df['os'].value_counts()\n",
    "counts.plot(kind='bar')\n",
    "plt.show()"
   ]
  },
  {
   "cell_type": "code",
   "execution_count": 34,
   "id": "64f7c525",
   "metadata": {},
   "outputs": [
    {
     "data": {
      "text/plain": [
       "Android          132\n",
       "Google TV         83\n",
       "WebOS             57\n",
       "Tizen             40\n",
       "Linux             15\n",
       "Android Based     14\n",
       "Not Specified      9\n",
       "VIDAA              3\n",
       "Coolita            2\n",
       "HomeOS             1\n",
       "Analog             1\n",
       "FireOS             1\n",
       "Name: os, dtype: int64"
      ]
     },
     "execution_count": 34,
     "metadata": {},
     "output_type": "execute_result"
    }
   ],
   "source": [
    "df['os'].value_counts()"
   ]
  },
  {
   "cell_type": "code",
   "execution_count": 35,
   "id": "98418b89",
   "metadata": {},
   "outputs": [],
   "source": [
    "# Define the cat_os function\n",
    "def cat_os(inp):\n",
    "    if inp in ['Android', 'Android Based']:\n",
    "        return 'Android'\n",
    "    elif inp in ['Not Specified', 'VIDAA', 'Coolita', 'HomeOS', 'Analog', 'FireOS']:\n",
    "        return 'Others'\n",
    "    else:\n",
    "        return inp\n",
    "\n",
    "# Apply the function to the 'OS' column\n",
    "df['os'] = df['os'].apply(cat_os)"
   ]
  },
  {
   "cell_type": "code",
   "execution_count": 36,
   "id": "6ff0cf91",
   "metadata": {},
   "outputs": [
    {
     "data": {
      "image/png": "[encoded data removed]",
      "text/plain": [
       "<Figure size 1008x576 with 1 Axes>"
      ]
     },
     "metadata": {
      "needs_background": "light"
     },
     "output_type": "display_data"
    }
   ],
   "source": [
    "plt.figure(figsize=(14, 8))  # Adjust the figure size as needed\n",
    "sns.barplot(x='os', y='Price', data=df)  \n",
    "plt.xlabel('os')\n",
    "plt.ylabel('Price')\n",
    "plt.xticks(rotation=90)  # Rotate x-axis labels if needed\n",
    "plt.show()"
   ]
  },
  {
   "cell_type": "code",
   "execution_count": 37,
   "id": "7f662539",
   "metadata": {},
   "outputs": [
    {
     "data": {
      "image/png": "[encoded data removed]",
      "text/plain": [
       "<Figure size 432x288 with 1 Axes>"
      ]
     },
     "metadata": {
      "needs_background": "light"
     },
     "output_type": "display_data"
    }
   ],
   "source": [
    "counts = df['usb_count'].value_counts()\n",
    "counts.plot(kind='bar')\n",
    "plt.show()"
   ]
  },
  {
   "cell_type": "code",
   "execution_count": 38,
   "id": "e5e3e738",
   "metadata": {},
   "outputs": [
    {
     "data": {
      "image/png": "[encoded data removed]",
      "text/plain": [
       "<Figure size 1008x576 with 1 Axes>"
      ]
     },
     "metadata": {
      "needs_background": "light"
     },
     "output_type": "display_data"
    }
   ],
   "source": [
    "plt.figure(figsize=(14, 8))  # Adjust the figure size as needed\n",
    "sns.barplot(x='usb_count', y='Price', data=df)  \n",
    "plt.xlabel('usb_count')\n",
    "plt.ylabel('Price')\n",
    "plt.xticks(rotation=90)  # Rotate x-axis labels if needed\n",
    "plt.show()"
   ]
  },
  {
   "cell_type": "code",
   "execution_count": 39,
   "id": "0ae70f41",
   "metadata": {},
   "outputs": [
    {
     "data": {
      "image/png": "[encoded data removed]",
      "text/plain": [
       "<Figure size 432x288 with 1 Axes>"
      ]
     },
     "metadata": {
      "needs_background": "light"
     },
     "output_type": "display_data"
    }
   ],
   "source": [
    "counts = df['hdmi_count'].value_counts()\n",
    "counts.plot(kind='bar')\n",
    "plt.show()"
   ]
  },
  {
   "cell_type": "code",
   "execution_count": 40,
   "id": "02096b38",
   "metadata": {},
   "outputs": [
    {
     "data": {
      "image/png": "[encoded data removed]",
      "text/plain": [
       "<Figure size 1008x576 with 1 Axes>"
      ]
     },
     "metadata": {
      "needs_background": "light"
     },
     "output_type": "display_data"
    }
   ],
   "source": [
    "plt.figure(figsize=(14, 8))  # Adjust the figure size as needed\n",
    "sns.barplot(x='hdmi_count', y='Price', data=df)  \n",
    "plt.xlabel('hdmi_count')\n",
    "plt.ylabel('Price')\n",
    "plt.xticks(rotation=90)  # Rotate x-axis labels if needed\n",
    "plt.show()"
   ]
  },
  {
   "cell_type": "code",
   "execution_count": 41,
   "id": "c506570a",
   "metadata": {},
   "outputs": [
    {
     "data": {
      "image/png": "[encoded data removed]",
      "text/plain": [
       "<Figure size 432x288 with 1 Axes>"
      ]
     },
     "metadata": {
      "needs_background": "light"
     },
     "output_type": "display_data"
    }
   ],
   "source": [
    "counts = df['screen_type'].value_counts()\n",
    "counts.plot(kind='bar')\n",
    "plt.show()"
   ]
  },
  {
   "cell_type": "code",
   "execution_count": 42,
   "id": "192aefd0",
   "metadata": {},
   "outputs": [
    {
     "data": {
      "text/plain": [
       "LED      294\n",
       "QLED      38\n",
       "OLED      23\n",
       "LCD        1\n",
       "Laser      1\n",
       "QNED       1\n",
       "Name: screen_type, dtype: int64"
      ]
     },
     "execution_count": 42,
     "metadata": {},
     "output_type": "execute_result"
    }
   ],
   "source": [
    "df['screen_type'].value_counts()"
   ]
  },
  {
   "cell_type": "code",
   "execution_count": 43,
   "id": "2f2958f4",
   "metadata": {},
   "outputs": [],
   "source": [
    "# Define the cat_os function\n",
    "def cat_screen(inp):\n",
    "    if inp in ['LCD', 'Laser','QNED']:\n",
    "        return 'LCD/Laser/QNED'\n",
    "    else:\n",
    "        return inp\n",
    "\n",
    "# Apply the function to the 'OS' column\n",
    "df['screen_type'] = df['screen_type'].apply(cat_screen)\n"
   ]
  },
  {
   "cell_type": "code",
   "execution_count": 44,
   "id": "1192007d",
   "metadata": {},
   "outputs": [
    {
     "data": {
      "image/png": "[encoded data removed]",
      "text/plain": [
       "<Figure size 1008x576 with 1 Axes>"
      ]
     },
     "metadata": {
      "needs_background": "light"
     },
     "output_type": "display_data"
    }
   ],
   "source": [
    "plt.figure(figsize=(14, 8))  # Adjust the figure size as needed\n",
    "sns.barplot(x='screen_type', y='Price', data=df)  \n",
    "plt.xlabel(' ')\n",
    "plt.ylabel('Price')\n",
    "plt.xticks(rotation=90)  # Rotate x-axis labels if needed\n",
    "plt.show()"
   ]
  },
  {
   "cell_type": "code",
   "execution_count": 45,
   "id": "34fcfaa1",
   "metadata": {},
   "outputs": [
    {
     "data": {
      "image/png": "[encoded data removed]",
      "text/plain": [
       "<Figure size 1008x576 with 1 Axes>"
      ]
     },
     "metadata": {
      "needs_background": "light"
     },
     "output_type": "display_data"
    }
   ],
   "source": [
    "plt.figure(figsize=(14, 8))  # Adjust the figure size as needed\n",
    "sns.barplot(x='X_Pixel', y='Price', data=df)  \n",
    "plt.xlabel('X_Pixel')\n",
    "plt.ylabel('Price')\n",
    "plt.xticks(rotation=90)  # Rotate x-axis labels if needed\n",
    "plt.show()"
   ]
  },
  {
   "cell_type": "code",
   "execution_count": 46,
   "id": "3d196f8b",
   "metadata": {},
   "outputs": [
    {
     "data": {
      "image/png": "[encoded data removed]",
      "text/plain": [
       "<Figure size 1008x576 with 1 Axes>"
      ]
     },
     "metadata": {
      "needs_background": "light"
     },
     "output_type": "display_data"
    }
   ],
   "source": [
    "plt.figure(figsize=(14, 8))  # Adjust the figure size as needed\n",
    "sns.barplot(x='Y_Pixel', y='Price', data=df)  \n",
    "plt.xlabel('Y_Pixel')\n",
    "plt.ylabel('Price')\n",
    "plt.xticks(rotation=90)  # Rotate x-axis labels if needed\n",
    "plt.show()"
   ]
  },
  {
   "cell_type": "code",
   "execution_count": 47,
   "id": "919c5e0e",
   "metadata": {},
   "outputs": [
    {
     "data": {
      "text/plain": [
       "Y_Pixel                0.466768\n",
       "X_Pixel                0.466689\n",
       "Display size (cm)      0.657844\n",
       "Display size (inch)    0.642861\n",
       "launch_year           -0.178438\n",
       "smart_tv               0.135026\n",
       "usb_count              0.299520\n",
       "hdmi_count             0.526666\n",
       "Price                  1.000000\n",
       "Name: Price, dtype: float64"
      ]
     },
     "execution_count": 47,
     "metadata": {},
     "output_type": "execute_result"
    }
   ],
   "source": [
    "df.corr().Price"
   ]
  },
  {
   "cell_type": "code",
   "execution_count": 48,
   "id": "36db32f4",
   "metadata": {},
   "outputs": [],
   "source": [
    "df.drop(columns=['Display size (cm)'], inplace=True)"
   ]
  },
  {
   "cell_type": "code",
   "execution_count": 49,
   "id": "399b98ed",
   "metadata": {},
   "outputs": [
    {
     "data": {
      "text/html": [
       "<div>\n",
       "<style scoped>\n",
       "    .dataframe tbody tr th:only-of-type {\n",
       "        vertical-align: middle;\n",
       "    }\n",
       "\n",
       "    .dataframe tbody tr th {\n",
       "        vertical-align: top;\n",
       "    }\n",
       "\n",
       "    .dataframe thead th {\n",
       "        text-align: right;\n",
       "    }\n",
       "</style>\n",
       "<table border=\"1\" class=\"dataframe\">\n",
       "  <thead>\n",
       "    <tr style=\"text-align: right;\">\n",
       "      <th></th>\n",
       "      <th>Y_Pixel</th>\n",
       "      <th>X_Pixel</th>\n",
       "      <th>Resolution_Type</th>\n",
       "      <th>Brand</th>\n",
       "      <th>Display size (inch)</th>\n",
       "      <th>model_name</th>\n",
       "      <th>launch_year</th>\n",
       "      <th>smart_tv</th>\n",
       "      <th>os</th>\n",
       "      <th>usb_count</th>\n",
       "      <th>hdmi_count</th>\n",
       "      <th>screen_type</th>\n",
       "      <th>Price</th>\n",
       "    </tr>\n",
       "  </thead>\n",
       "  <tbody>\n",
       "    <tr>\n",
       "      <th>0</th>\n",
       "      <td>720</td>\n",
       "      <td>1280</td>\n",
       "      <td>HD Ready</td>\n",
       "      <td>SAMSUNG</td>\n",
       "      <td>32</td>\n",
       "      <td>UA32T4380AKXXL</td>\n",
       "      <td>2022</td>\n",
       "      <td>1</td>\n",
       "      <td>Tizen</td>\n",
       "      <td>1</td>\n",
       "      <td>2</td>\n",
       "      <td>LED</td>\n",
       "      <td>11990</td>\n",
       "    </tr>\n",
       "    <tr>\n",
       "      <th>1</th>\n",
       "      <td>720</td>\n",
       "      <td>1280</td>\n",
       "      <td>HD Ready</td>\n",
       "      <td>iFFALCON</td>\n",
       "      <td>32</td>\n",
       "      <td>iFF32S53</td>\n",
       "      <td>2023</td>\n",
       "      <td>1</td>\n",
       "      <td>Android</td>\n",
       "      <td>1</td>\n",
       "      <td>2</td>\n",
       "      <td>LED</td>\n",
       "      <td>8999</td>\n",
       "    </tr>\n",
       "  </tbody>\n",
       "</table>\n",
       "</div>"
      ],
      "text/plain": [
       "   Y_Pixel  X_Pixel Resolution_Type     Brand  Display size (inch)  \\\n",
       "0      720     1280        HD Ready   SAMSUNG                   32   \n",
       "1      720     1280        HD Ready  iFFALCON                   32   \n",
       "\n",
       "       model_name  launch_year  smart_tv       os  usb_count  hdmi_count  \\\n",
       "0  UA32T4380AKXXL         2022         1    Tizen          1           2   \n",
       "1        iFF32S53         2023         1  Android          1           2   \n",
       "\n",
       "  screen_type  Price  \n",
       "0         LED  11990  \n",
       "1         LED   8999  "
      ]
     },
     "execution_count": 49,
     "metadata": {},
     "output_type": "execute_result"
    }
   ],
   "source": [
    "df.head(2)"
   ]
  },
  {
   "cell_type": "code",
   "execution_count": 50,
   "id": "0e1d5062",
   "metadata": {},
   "outputs": [
    {
     "data": {
      "text/html": [
       "<div>\n",
       "<style scoped>\n",
       "    .dataframe tbody tr th:only-of-type {\n",
       "        vertical-align: middle;\n",
       "    }\n",
       "\n",
       "    .dataframe tbody tr th {\n",
       "        vertical-align: top;\n",
       "    }\n",
       "\n",
       "    .dataframe thead th {\n",
       "        text-align: right;\n",
       "    }\n",
       "</style>\n",
       "<table border=\"1\" class=\"dataframe\">\n",
       "  <thead>\n",
       "    <tr style=\"text-align: right;\">\n",
       "      <th></th>\n",
       "      <th>Y_Pixel</th>\n",
       "      <th>X_Pixel</th>\n",
       "      <th>Display size (inch)</th>\n",
       "      <th>launch_year</th>\n",
       "      <th>smart_tv</th>\n",
       "      <th>usb_count</th>\n",
       "      <th>hdmi_count</th>\n",
       "      <th>Price</th>\n",
       "    </tr>\n",
       "  </thead>\n",
       "  <tbody>\n",
       "    <tr>\n",
       "      <th>Y_Pixel</th>\n",
       "      <td>1.000000</td>\n",
       "      <td>0.999983</td>\n",
       "      <td>0.769661</td>\n",
       "      <td>0.022016</td>\n",
       "      <td>0.332068</td>\n",
       "      <td>0.184689</td>\n",
       "      <td>0.668477</td>\n",
       "      <td>0.466768</td>\n",
       "    </tr>\n",
       "    <tr>\n",
       "      <th>X_Pixel</th>\n",
       "      <td>0.999983</td>\n",
       "      <td>1.000000</td>\n",
       "      <td>0.769590</td>\n",
       "      <td>0.021719</td>\n",
       "      <td>0.333151</td>\n",
       "      <td>0.184559</td>\n",
       "      <td>0.668432</td>\n",
       "      <td>0.466689</td>\n",
       "    </tr>\n",
       "    <tr>\n",
       "      <th>Display size (inch)</th>\n",
       "      <td>0.769661</td>\n",
       "      <td>0.769590</td>\n",
       "      <td>1.000000</td>\n",
       "      <td>-0.006798</td>\n",
       "      <td>0.306074</td>\n",
       "      <td>0.164525</td>\n",
       "      <td>0.634103</td>\n",
       "      <td>0.642861</td>\n",
       "    </tr>\n",
       "    <tr>\n",
       "      <th>launch_year</th>\n",
       "      <td>0.022016</td>\n",
       "      <td>0.021719</td>\n",
       "      <td>-0.006798</td>\n",
       "      <td>1.000000</td>\n",
       "      <td>0.212654</td>\n",
       "      <td>-0.163233</td>\n",
       "      <td>-0.124283</td>\n",
       "      <td>-0.178438</td>\n",
       "    </tr>\n",
       "    <tr>\n",
       "      <th>smart_tv</th>\n",
       "      <td>0.332068</td>\n",
       "      <td>0.333151</td>\n",
       "      <td>0.306074</td>\n",
       "      <td>0.212654</td>\n",
       "      <td>1.000000</td>\n",
       "      <td>0.057693</td>\n",
       "      <td>0.254284</td>\n",
       "      <td>0.135026</td>\n",
       "    </tr>\n",
       "    <tr>\n",
       "      <th>usb_count</th>\n",
       "      <td>0.184689</td>\n",
       "      <td>0.184559</td>\n",
       "      <td>0.164525</td>\n",
       "      <td>-0.163233</td>\n",
       "      <td>0.057693</td>\n",
       "      <td>1.000000</td>\n",
       "      <td>0.356185</td>\n",
       "      <td>0.299520</td>\n",
       "    </tr>\n",
       "    <tr>\n",
       "      <th>hdmi_count</th>\n",
       "      <td>0.668477</td>\n",
       "      <td>0.668432</td>\n",
       "      <td>0.634103</td>\n",
       "      <td>-0.124283</td>\n",
       "      <td>0.254284</td>\n",
       "      <td>0.356185</td>\n",
       "      <td>1.000000</td>\n",
       "      <td>0.526666</td>\n",
       "    </tr>\n",
       "    <tr>\n",
       "      <th>Price</th>\n",
       "      <td>0.466768</td>\n",
       "      <td>0.466689</td>\n",
       "      <td>0.642861</td>\n",
       "      <td>-0.178438</td>\n",
       "      <td>0.135026</td>\n",
       "      <td>0.299520</td>\n",
       "      <td>0.526666</td>\n",
       "      <td>1.000000</td>\n",
       "    </tr>\n",
       "  </tbody>\n",
       "</table>\n",
       "</div>"
      ],
      "text/plain": [
       "                      Y_Pixel   X_Pixel  Display size (inch)  launch_year  \\\n",
       "Y_Pixel              1.000000  0.999983             0.769661     0.022016   \n",
       "X_Pixel              0.999983  1.000000             0.769590     0.021719   \n",
       "Display size (inch)  0.769661  0.769590             1.000000    -0.006798   \n",
       "launch_year          0.022016  0.021719            -0.006798     1.000000   \n",
       "smart_tv             0.332068  0.333151             0.306074     0.212654   \n",
       "usb_count            0.184689  0.184559             0.164525    -0.163233   \n",
       "hdmi_count           0.668477  0.668432             0.634103    -0.124283   \n",
       "Price                0.466768  0.466689             0.642861    -0.178438   \n",
       "\n",
       "                     smart_tv  usb_count  hdmi_count     Price  \n",
       "Y_Pixel              0.332068   0.184689    0.668477  0.466768  \n",
       "X_Pixel              0.333151   0.184559    0.668432  0.466689  \n",
       "Display size (inch)  0.306074   0.164525    0.634103  0.642861  \n",
       "launch_year          0.212654  -0.163233   -0.124283 -0.178438  \n",
       "smart_tv             1.000000   0.057693    0.254284  0.135026  \n",
       "usb_count            0.057693   1.000000    0.356185  0.299520  \n",
       "hdmi_count           0.254284   0.356185    1.000000  0.526666  \n",
       "Price                0.135026   0.299520    0.526666  1.000000  "
      ]
     },
     "execution_count": 50,
     "metadata": {},
     "output_type": "execute_result"
    }
   ],
   "source": [
    "df.corr()"
   ]
  },
  {
   "cell_type": "code",
   "execution_count": 51,
   "id": "d15f74a7",
   "metadata": {},
   "outputs": [],
   "source": [
    "df['Total Pixels'] = df['Y_Pixel'] * df['X_Pixel']"
   ]
  },
  {
   "cell_type": "code",
   "execution_count": 52,
   "id": "0a546c83",
   "metadata": {},
   "outputs": [
    {
     "data": {
      "text/plain": [
       "Y_Pixel                0.466768\n",
       "X_Pixel                0.466689\n",
       "Display size (inch)    0.642861\n",
       "launch_year           -0.178438\n",
       "smart_tv               0.135026\n",
       "usb_count              0.299520\n",
       "hdmi_count             0.526666\n",
       "Price                  1.000000\n",
       "Total Pixels           0.508590\n",
       "Name: Price, dtype: float64"
      ]
     },
     "execution_count": 52,
     "metadata": {},
     "output_type": "execute_result"
    }
   ],
   "source": [
    "df.corr().Price"
   ]
  },
  {
   "cell_type": "code",
   "execution_count": 53,
   "id": "9625befe",
   "metadata": {},
   "outputs": [],
   "source": [
    "df.drop(columns=['X_Pixel'], inplace=True)\n",
    "df.drop(columns=['Y_Pixel'], inplace=True)\n"
   ]
  },
  {
   "cell_type": "code",
   "execution_count": 54,
   "id": "e0c10a65",
   "metadata": {},
   "outputs": [],
   "source": [
    "# Assuming you have a DataFrame df with columns 'Total Pixels' and 'Display size (inch)'\n",
    "df['Pixels_per_Inch'] = df['Total Pixels'] / df['Display size (inch)']"
   ]
  },
  {
   "cell_type": "code",
   "execution_count": 55,
   "id": "965903aa",
   "metadata": {},
   "outputs": [],
   "source": [
    "df.drop(columns=['Total Pixels'], inplace=True)\n",
    "df.drop(columns=['Display size (inch)'], inplace=True)"
   ]
  },
  {
   "cell_type": "code",
   "execution_count": 56,
   "id": "a2f5942c",
   "metadata": {},
   "outputs": [
    {
     "data": {
      "text/html": [
       "<div>\n",
       "<style scoped>\n",
       "    .dataframe tbody tr th:only-of-type {\n",
       "        vertical-align: middle;\n",
       "    }\n",
       "\n",
       "    .dataframe tbody tr th {\n",
       "        vertical-align: top;\n",
       "    }\n",
       "\n",
       "    .dataframe thead th {\n",
       "        text-align: right;\n",
       "    }\n",
       "</style>\n",
       "<table border=\"1\" class=\"dataframe\">\n",
       "  <thead>\n",
       "    <tr style=\"text-align: right;\">\n",
       "      <th></th>\n",
       "      <th>launch_year</th>\n",
       "      <th>smart_tv</th>\n",
       "      <th>usb_count</th>\n",
       "      <th>hdmi_count</th>\n",
       "      <th>Price</th>\n",
       "      <th>Pixels_per_Inch</th>\n",
       "    </tr>\n",
       "  </thead>\n",
       "  <tbody>\n",
       "    <tr>\n",
       "      <th>launch_year</th>\n",
       "      <td>1.000000</td>\n",
       "      <td>0.212654</td>\n",
       "      <td>-0.163233</td>\n",
       "      <td>-0.124283</td>\n",
       "      <td>-0.178438</td>\n",
       "      <td>0.039379</td>\n",
       "    </tr>\n",
       "    <tr>\n",
       "      <th>smart_tv</th>\n",
       "      <td>0.212654</td>\n",
       "      <td>1.000000</td>\n",
       "      <td>0.057693</td>\n",
       "      <td>0.254284</td>\n",
       "      <td>0.135026</td>\n",
       "      <td>0.283236</td>\n",
       "    </tr>\n",
       "    <tr>\n",
       "      <th>usb_count</th>\n",
       "      <td>-0.163233</td>\n",
       "      <td>0.057693</td>\n",
       "      <td>1.000000</td>\n",
       "      <td>0.356185</td>\n",
       "      <td>0.299520</td>\n",
       "      <td>0.161216</td>\n",
       "    </tr>\n",
       "    <tr>\n",
       "      <th>hdmi_count</th>\n",
       "      <td>-0.124283</td>\n",
       "      <td>0.254284</td>\n",
       "      <td>0.356185</td>\n",
       "      <td>1.000000</td>\n",
       "      <td>0.526666</td>\n",
       "      <td>0.546074</td>\n",
       "    </tr>\n",
       "    <tr>\n",
       "      <th>Price</th>\n",
       "      <td>-0.178438</td>\n",
       "      <td>0.135026</td>\n",
       "      <td>0.299520</td>\n",
       "      <td>0.526666</td>\n",
       "      <td>1.000000</td>\n",
       "      <td>0.320677</td>\n",
       "    </tr>\n",
       "    <tr>\n",
       "      <th>Pixels_per_Inch</th>\n",
       "      <td>0.039379</td>\n",
       "      <td>0.283236</td>\n",
       "      <td>0.161216</td>\n",
       "      <td>0.546074</td>\n",
       "      <td>0.320677</td>\n",
       "      <td>1.000000</td>\n",
       "    </tr>\n",
       "  </tbody>\n",
       "</table>\n",
       "</div>"
      ],
      "text/plain": [
       "                 launch_year  smart_tv  usb_count  hdmi_count     Price  \\\n",
       "launch_year         1.000000  0.212654  -0.163233   -0.124283 -0.178438   \n",
       "smart_tv            0.212654  1.000000   0.057693    0.254284  0.135026   \n",
       "usb_count          -0.163233  0.057693   1.000000    0.356185  0.299520   \n",
       "hdmi_count         -0.124283  0.254284   0.356185    1.000000  0.526666   \n",
       "Price              -0.178438  0.135026   0.299520    0.526666  1.000000   \n",
       "Pixels_per_Inch     0.039379  0.283236   0.161216    0.546074  0.320677   \n",
       "\n",
       "                 Pixels_per_Inch  \n",
       "launch_year             0.039379  \n",
       "smart_tv                0.283236  \n",
       "usb_count               0.161216  \n",
       "hdmi_count              0.546074  \n",
       "Price                   0.320677  \n",
       "Pixels_per_Inch         1.000000  "
      ]
     },
     "execution_count": 56,
     "metadata": {},
     "output_type": "execute_result"
    }
   ],
   "source": [
    "df.corr()"
   ]
  },
  {
   "cell_type": "code",
   "execution_count": 57,
   "id": "f66fff2b",
   "metadata": {},
   "outputs": [
    {
     "data": {
      "text/plain": [
       "<AxesSubplot:>"
      ]
     },
     "execution_count": 57,
     "metadata": {},
     "output_type": "execute_result"
    },
    {
     "data": {
      "image/png": "[encoded data removed]",
      "text/plain": [
       "<Figure size 432x288 with 2 Axes>"
      ]
     },
     "metadata": {
      "needs_background": "light"
     },
     "output_type": "display_data"
    }
   ],
   "source": [
    "sns.heatmap(df.corr())"
   ]
  },
  {
   "cell_type": "code",
   "execution_count": 58,
   "id": "3844c5d5",
   "metadata": {},
   "outputs": [
    {
     "name": "stderr",
     "output_type": "stream",
     "text": [
      "D:\\anaconda3\\lib\\site-packages\\seaborn\\distributions.py:2619: FutureWarning: `distplot` is a deprecated function and will be removed in a future version. Please adapt your code to use either `displot` (a figure-level function with similar flexibility) or `histplot` (an axes-level function for histograms).\n",
      "  warnings.warn(msg, FutureWarning)\n"
     ]
    },
    {
     "data": {
      "text/plain": [
       "<AxesSubplot:xlabel='Price', ylabel='Density'>"
      ]
     },
     "execution_count": 58,
     "metadata": {},
     "output_type": "execute_result"
    },
    {
     "data": {
      "image/png": "[encoded data removed]",
      "text/plain": [
       "<Figure size 432x288 with 1 Axes>"
      ]
     },
     "metadata": {
      "needs_background": "light"
     },
     "output_type": "display_data"
    }
   ],
   "source": [
    "sns.distplot(np.log(df['Price']))"
   ]
  },
  {
   "cell_type": "code",
   "execution_count": 59,
   "id": "df3e9833",
   "metadata": {},
   "outputs": [
    {
     "data": {
      "text/html": [
       "<div>\n",
       "<style scoped>\n",
       "    .dataframe tbody tr th:only-of-type {\n",
       "        vertical-align: middle;\n",
       "    }\n",
       "\n",
       "    .dataframe tbody tr th {\n",
       "        vertical-align: top;\n",
       "    }\n",
       "\n",
       "    .dataframe thead th {\n",
       "        text-align: right;\n",
       "    }\n",
       "</style>\n",
       "<table border=\"1\" class=\"dataframe\">\n",
       "  <thead>\n",
       "    <tr style=\"text-align: right;\">\n",
       "      <th></th>\n",
       "      <th>Resolution_Type</th>\n",
       "      <th>Brand</th>\n",
       "      <th>model_name</th>\n",
       "      <th>launch_year</th>\n",
       "      <th>smart_tv</th>\n",
       "      <th>os</th>\n",
       "      <th>usb_count</th>\n",
       "      <th>hdmi_count</th>\n",
       "      <th>screen_type</th>\n",
       "      <th>Price</th>\n",
       "      <th>Pixels_per_Inch</th>\n",
       "    </tr>\n",
       "  </thead>\n",
       "  <tbody>\n",
       "    <tr>\n",
       "      <th>0</th>\n",
       "      <td>HD Ready</td>\n",
       "      <td>SAMSUNG</td>\n",
       "      <td>UA32T4380AKXXL</td>\n",
       "      <td>2022</td>\n",
       "      <td>1</td>\n",
       "      <td>Tizen</td>\n",
       "      <td>1</td>\n",
       "      <td>2</td>\n",
       "      <td>LED</td>\n",
       "      <td>11990</td>\n",
       "      <td>28800.000000</td>\n",
       "    </tr>\n",
       "    <tr>\n",
       "      <th>1</th>\n",
       "      <td>HD Ready</td>\n",
       "      <td>iFFALCON</td>\n",
       "      <td>iFF32S53</td>\n",
       "      <td>2023</td>\n",
       "      <td>1</td>\n",
       "      <td>Android</td>\n",
       "      <td>1</td>\n",
       "      <td>2</td>\n",
       "      <td>LED</td>\n",
       "      <td>8999</td>\n",
       "      <td>28800.000000</td>\n",
       "    </tr>\n",
       "    <tr>\n",
       "      <th>2</th>\n",
       "      <td>Ultra HD (4K)</td>\n",
       "      <td>iFFALCON</td>\n",
       "      <td>iFF43U62</td>\n",
       "      <td>2022</td>\n",
       "      <td>1</td>\n",
       "      <td>Google TV</td>\n",
       "      <td>1</td>\n",
       "      <td>3</td>\n",
       "      <td>LED</td>\n",
       "      <td>17999</td>\n",
       "      <td>192893.023256</td>\n",
       "    </tr>\n",
       "    <tr>\n",
       "      <th>3</th>\n",
       "      <td>Ultra HD (4K)</td>\n",
       "      <td>Thomson</td>\n",
       "      <td>50OPMAXGT9020</td>\n",
       "      <td>2023</td>\n",
       "      <td>1</td>\n",
       "      <td>Google TV</td>\n",
       "      <td>2</td>\n",
       "      <td>3</td>\n",
       "      <td>LED</td>\n",
       "      <td>22999</td>\n",
       "      <td>165888.000000</td>\n",
       "    </tr>\n",
       "    <tr>\n",
       "      <th>4</th>\n",
       "      <td>Full HD</td>\n",
       "      <td>Mi</td>\n",
       "      <td>L40M8-5AIN</td>\n",
       "      <td>2023</td>\n",
       "      <td>1</td>\n",
       "      <td>Google TV</td>\n",
       "      <td>2</td>\n",
       "      <td>2</td>\n",
       "      <td>LED</td>\n",
       "      <td>20499</td>\n",
       "      <td>51840.000000</td>\n",
       "    </tr>\n",
       "  </tbody>\n",
       "</table>\n",
       "</div>"
      ],
      "text/plain": [
       "  Resolution_Type     Brand      model_name  launch_year  smart_tv         os  \\\n",
       "0        HD Ready   SAMSUNG  UA32T4380AKXXL         2022         1      Tizen   \n",
       "1        HD Ready  iFFALCON        iFF32S53         2023         1    Android   \n",
       "2   Ultra HD (4K)  iFFALCON        iFF43U62         2022         1  Google TV   \n",
       "3   Ultra HD (4K)   Thomson   50OPMAXGT9020         2023         1  Google TV   \n",
       "4         Full HD        Mi      L40M8-5AIN         2023         1  Google TV   \n",
       "\n",
       "   usb_count  hdmi_count screen_type  Price  Pixels_per_Inch  \n",
       "0          1           2         LED  11990     28800.000000  \n",
       "1          1           2         LED   8999     28800.000000  \n",
       "2          1           3         LED  17999    192893.023256  \n",
       "3          2           3         LED  22999    165888.000000  \n",
       "4          2           2         LED  20499     51840.000000  "
      ]
     },
     "execution_count": 59,
     "metadata": {},
     "output_type": "execute_result"
    }
   ],
   "source": [
    "df.head()"
   ]
  },
  {
   "cell_type": "code",
   "execution_count": 60,
   "id": "1908b80d",
   "metadata": {},
   "outputs": [],
   "source": [
    "desired_order = [\n",
    "    'Brand',\n",
    "    'model_name',\n",
    "    'launch_year',\n",
    "    'Resolution_Type',\n",
    "    'os',\n",
    "    'screen_type',\n",
    "    'smart_tv',\n",
    "    'usb_count',\n",
    "    'hdmi_count',\n",
    "    'Pixels_per_Inch',\n",
    "    'Price'\n",
    "]\n",
    "# Reorder the DataFrame\n",
    "df = df[desired_order]"
   ]
  },
  {
   "cell_type": "code",
   "execution_count": 61,
   "id": "8ae67567",
   "metadata": {},
   "outputs": [],
   "source": [
    "df.drop(columns=['model_name'], inplace=True)"
   ]
  },
  {
   "cell_type": "code",
   "execution_count": 62,
   "id": "ef278094",
   "metadata": {},
   "outputs": [],
   "source": [
    "X=df.drop(columns=['Price'])\n",
    "y=np.log(df['Price'])"
   ]
  },
  {
   "cell_type": "code",
   "execution_count": 63,
   "id": "15bfebb2",
   "metadata": {},
   "outputs": [
    {
     "data": {
      "text/html": [
       "<div>\n",
       "<style scoped>\n",
       "    .dataframe tbody tr th:only-of-type {\n",
       "        vertical-align: middle;\n",
       "    }\n",
       "\n",
       "    .dataframe tbody tr th {\n",
       "        vertical-align: top;\n",
       "    }\n",
       "\n",
       "    .dataframe thead th {\n",
       "        text-align: right;\n",
       "    }\n",
       "</style>\n",
       "<table border=\"1\" class=\"dataframe\">\n",
       "  <thead>\n",
       "    <tr style=\"text-align: right;\">\n",
       "      <th></th>\n",
       "      <th>Brand</th>\n",
       "      <th>launch_year</th>\n",
       "      <th>Resolution_Type</th>\n",
       "      <th>os</th>\n",
       "      <th>screen_type</th>\n",
       "      <th>smart_tv</th>\n",
       "      <th>usb_count</th>\n",
       "      <th>hdmi_count</th>\n",
       "      <th>Pixels_per_Inch</th>\n",
       "    </tr>\n",
       "  </thead>\n",
       "  <tbody>\n",
       "    <tr>\n",
       "      <th>0</th>\n",
       "      <td>SAMSUNG</td>\n",
       "      <td>2022</td>\n",
       "      <td>HD Ready</td>\n",
       "      <td>Tizen</td>\n",
       "      <td>LED</td>\n",
       "      <td>1</td>\n",
       "      <td>1</td>\n",
       "      <td>2</td>\n",
       "      <td>28800.000000</td>\n",
       "    </tr>\n",
       "    <tr>\n",
       "      <th>1</th>\n",
       "      <td>iFFALCON</td>\n",
       "      <td>2023</td>\n",
       "      <td>HD Ready</td>\n",
       "      <td>Android</td>\n",
       "      <td>LED</td>\n",
       "      <td>1</td>\n",
       "      <td>1</td>\n",
       "      <td>2</td>\n",
       "      <td>28800.000000</td>\n",
       "    </tr>\n",
       "    <tr>\n",
       "      <th>2</th>\n",
       "      <td>iFFALCON</td>\n",
       "      <td>2022</td>\n",
       "      <td>Ultra HD (4K)</td>\n",
       "      <td>Google TV</td>\n",
       "      <td>LED</td>\n",
       "      <td>1</td>\n",
       "      <td>1</td>\n",
       "      <td>3</td>\n",
       "      <td>192893.023256</td>\n",
       "    </tr>\n",
       "    <tr>\n",
       "      <th>3</th>\n",
       "      <td>Thomson</td>\n",
       "      <td>2023</td>\n",
       "      <td>Ultra HD (4K)</td>\n",
       "      <td>Google TV</td>\n",
       "      <td>LED</td>\n",
       "      <td>1</td>\n",
       "      <td>2</td>\n",
       "      <td>3</td>\n",
       "      <td>165888.000000</td>\n",
       "    </tr>\n",
       "    <tr>\n",
       "      <th>4</th>\n",
       "      <td>Mi</td>\n",
       "      <td>2023</td>\n",
       "      <td>Full HD</td>\n",
       "      <td>Google TV</td>\n",
       "      <td>LED</td>\n",
       "      <td>1</td>\n",
       "      <td>2</td>\n",
       "      <td>2</td>\n",
       "      <td>51840.000000</td>\n",
       "    </tr>\n",
       "    <tr>\n",
       "      <th>...</th>\n",
       "      <td>...</td>\n",
       "      <td>...</td>\n",
       "      <td>...</td>\n",
       "      <td>...</td>\n",
       "      <td>...</td>\n",
       "      <td>...</td>\n",
       "      <td>...</td>\n",
       "      <td>...</td>\n",
       "      <td>...</td>\n",
       "    </tr>\n",
       "    <tr>\n",
       "      <th>353</th>\n",
       "      <td>LG</td>\n",
       "      <td>2022</td>\n",
       "      <td>Ultra HD (4K)</td>\n",
       "      <td>WebOS</td>\n",
       "      <td>LED</td>\n",
       "      <td>1</td>\n",
       "      <td>2</td>\n",
       "      <td>3</td>\n",
       "      <td>192893.023256</td>\n",
       "    </tr>\n",
       "    <tr>\n",
       "      <th>354</th>\n",
       "      <td>Panwood</td>\n",
       "      <td>2023</td>\n",
       "      <td>HD Ready</td>\n",
       "      <td>Android</td>\n",
       "      <td>LED</td>\n",
       "      <td>1</td>\n",
       "      <td>2</td>\n",
       "      <td>2</td>\n",
       "      <td>28800.000000</td>\n",
       "    </tr>\n",
       "    <tr>\n",
       "      <th>355</th>\n",
       "      <td>Others</td>\n",
       "      <td>2022</td>\n",
       "      <td>Full HD</td>\n",
       "      <td>Android</td>\n",
       "      <td>LED</td>\n",
       "      <td>1</td>\n",
       "      <td>2</td>\n",
       "      <td>2</td>\n",
       "      <td>64800.000000</td>\n",
       "    </tr>\n",
       "    <tr>\n",
       "      <th>356</th>\n",
       "      <td>Others</td>\n",
       "      <td>2023</td>\n",
       "      <td>Ultra HD (4K)</td>\n",
       "      <td>Android</td>\n",
       "      <td>LED</td>\n",
       "      <td>1</td>\n",
       "      <td>3</td>\n",
       "      <td>2</td>\n",
       "      <td>150807.272727</td>\n",
       "    </tr>\n",
       "    <tr>\n",
       "      <th>357</th>\n",
       "      <td>Others</td>\n",
       "      <td>2023</td>\n",
       "      <td>HD Ready</td>\n",
       "      <td>Others</td>\n",
       "      <td>LED</td>\n",
       "      <td>1</td>\n",
       "      <td>2</td>\n",
       "      <td>1</td>\n",
       "      <td>21432.558140</td>\n",
       "    </tr>\n",
       "  </tbody>\n",
       "</table>\n",
       "<p>358 rows × 9 columns</p>\n",
       "</div>"
      ],
      "text/plain": [
       "        Brand  launch_year Resolution_Type         os screen_type  smart_tv  \\\n",
       "0     SAMSUNG         2022        HD Ready      Tizen         LED         1   \n",
       "1    iFFALCON         2023        HD Ready    Android         LED         1   \n",
       "2    iFFALCON         2022   Ultra HD (4K)  Google TV         LED         1   \n",
       "3     Thomson         2023   Ultra HD (4K)  Google TV         LED         1   \n",
       "4          Mi         2023         Full HD  Google TV         LED         1   \n",
       "..        ...          ...             ...        ...         ...       ...   \n",
       "353        LG         2022   Ultra HD (4K)      WebOS         LED         1   \n",
       "354   Panwood         2023        HD Ready    Android         LED         1   \n",
       "355    Others         2022         Full HD    Android         LED         1   \n",
       "356    Others         2023   Ultra HD (4K)    Android         LED         1   \n",
       "357    Others         2023        HD Ready     Others         LED         1   \n",
       "\n",
       "     usb_count  hdmi_count  Pixels_per_Inch  \n",
       "0            1           2     28800.000000  \n",
       "1            1           2     28800.000000  \n",
       "2            1           3    192893.023256  \n",
       "3            2           3    165888.000000  \n",
       "4            2           2     51840.000000  \n",
       "..         ...         ...              ...  \n",
       "353          2           3    192893.023256  \n",
       "354          2           2     28800.000000  \n",
       "355          2           2     64800.000000  \n",
       "356          3           2    150807.272727  \n",
       "357          2           1     21432.558140  \n",
       "\n",
       "[358 rows x 9 columns]"
      ]
     },
     "execution_count": 63,
     "metadata": {},
     "output_type": "execute_result"
    }
   ],
   "source": [
    "X\n"
   ]
  },
  {
   "cell_type": "code",
   "execution_count": 64,
   "id": "e8976b4e",
   "metadata": {},
   "outputs": [
    {
     "data": {
      "text/plain": [
       "0       9.391828\n",
       "1       9.104869\n",
       "2       9.798071\n",
       "3      10.043206\n",
       "4       9.928131\n",
       "         ...    \n",
       "353    10.518403\n",
       "354     9.099409\n",
       "355     9.417355\n",
       "356    10.448425\n",
       "357     9.716555\n",
       "Name: Price, Length: 358, dtype: float64"
      ]
     },
     "execution_count": 64,
     "metadata": {},
     "output_type": "execute_result"
    }
   ],
   "source": [
    "y"
   ]
  },
  {
   "cell_type": "code",
   "execution_count": 65,
   "id": "90d2157a",
   "metadata": {},
   "outputs": [],
   "source": [
    "from sklearn.model_selection import train_test_split\n",
    "X_train,X_test,y_train,y_test = train_test_split(X,y,test_size=0.15,random_state=2)"
   ]
  },
  {
   "cell_type": "code",
   "execution_count": 66,
   "id": "82c66c91",
   "metadata": {},
   "outputs": [
    {
     "data": {
      "text/html": [
       "<div>\n",
       "<style scoped>\n",
       "    .dataframe tbody tr th:only-of-type {\n",
       "        vertical-align: middle;\n",
       "    }\n",
       "\n",
       "    .dataframe tbody tr th {\n",
       "        vertical-align: top;\n",
       "    }\n",
       "\n",
       "    .dataframe thead th {\n",
       "        text-align: right;\n",
       "    }\n",
       "</style>\n",
       "<table border=\"1\" class=\"dataframe\">\n",
       "  <thead>\n",
       "    <tr style=\"text-align: right;\">\n",
       "      <th></th>\n",
       "      <th>Brand</th>\n",
       "      <th>launch_year</th>\n",
       "      <th>Resolution_Type</th>\n",
       "      <th>os</th>\n",
       "      <th>screen_type</th>\n",
       "      <th>smart_tv</th>\n",
       "      <th>usb_count</th>\n",
       "      <th>hdmi_count</th>\n",
       "      <th>Pixels_per_Inch</th>\n",
       "    </tr>\n",
       "  </thead>\n",
       "  <tbody>\n",
       "    <tr>\n",
       "      <th>228</th>\n",
       "      <td>IMPEX</td>\n",
       "      <td>2022</td>\n",
       "      <td>Ultra HD (4K)</td>\n",
       "      <td>Android</td>\n",
       "      <td>LED</td>\n",
       "      <td>1</td>\n",
       "      <td>2</td>\n",
       "      <td>4</td>\n",
       "      <td>127606.153846</td>\n",
       "    </tr>\n",
       "    <tr>\n",
       "      <th>152</th>\n",
       "      <td>Compaq</td>\n",
       "      <td>2021</td>\n",
       "      <td>Ultra HD (4K)</td>\n",
       "      <td>Android</td>\n",
       "      <td>LED</td>\n",
       "      <td>1</td>\n",
       "      <td>2</td>\n",
       "      <td>3</td>\n",
       "      <td>165888.000000</td>\n",
       "    </tr>\n",
       "    <tr>\n",
       "      <th>173</th>\n",
       "      <td>LG</td>\n",
       "      <td>2020</td>\n",
       "      <td>Ultra HD (4K)</td>\n",
       "      <td>WebOS</td>\n",
       "      <td>LED</td>\n",
       "      <td>1</td>\n",
       "      <td>3</td>\n",
       "      <td>4</td>\n",
       "      <td>150807.272727</td>\n",
       "    </tr>\n",
       "    <tr>\n",
       "      <th>12</th>\n",
       "      <td>Thomson</td>\n",
       "      <td>2020</td>\n",
       "      <td>HD Ready</td>\n",
       "      <td>Android</td>\n",
       "      <td>LED</td>\n",
       "      <td>1</td>\n",
       "      <td>2</td>\n",
       "      <td>3</td>\n",
       "      <td>28800.000000</td>\n",
       "    </tr>\n",
       "    <tr>\n",
       "      <th>13</th>\n",
       "      <td>iFFALCON</td>\n",
       "      <td>2022</td>\n",
       "      <td>Ultra HD (4K)</td>\n",
       "      <td>Google TV</td>\n",
       "      <td>LED</td>\n",
       "      <td>1</td>\n",
       "      <td>1</td>\n",
       "      <td>3</td>\n",
       "      <td>165888.000000</td>\n",
       "    </tr>\n",
       "    <tr>\n",
       "      <th>...</th>\n",
       "      <td>...</td>\n",
       "      <td>...</td>\n",
       "      <td>...</td>\n",
       "      <td>...</td>\n",
       "      <td>...</td>\n",
       "      <td>...</td>\n",
       "      <td>...</td>\n",
       "      <td>...</td>\n",
       "      <td>...</td>\n",
       "    </tr>\n",
       "    <tr>\n",
       "      <th>299</th>\n",
       "      <td>Sansui</td>\n",
       "      <td>2020</td>\n",
       "      <td>Ultra HD (4K)</td>\n",
       "      <td>Google TV</td>\n",
       "      <td>LED</td>\n",
       "      <td>1</td>\n",
       "      <td>2</td>\n",
       "      <td>3</td>\n",
       "      <td>118491.428571</td>\n",
       "    </tr>\n",
       "    <tr>\n",
       "      <th>22</th>\n",
       "      <td>Blaupunkt</td>\n",
       "      <td>2023</td>\n",
       "      <td>Ultra HD (4K)</td>\n",
       "      <td>Google TV</td>\n",
       "      <td>LED</td>\n",
       "      <td>1</td>\n",
       "      <td>2</td>\n",
       "      <td>3</td>\n",
       "      <td>150807.272727</td>\n",
       "    </tr>\n",
       "    <tr>\n",
       "      <th>72</th>\n",
       "      <td>CANDY</td>\n",
       "      <td>2023</td>\n",
       "      <td>Ultra HD (4K)</td>\n",
       "      <td>Google TV</td>\n",
       "      <td>LED</td>\n",
       "      <td>1</td>\n",
       "      <td>2</td>\n",
       "      <td>4</td>\n",
       "      <td>150807.272727</td>\n",
       "    </tr>\n",
       "    <tr>\n",
       "      <th>15</th>\n",
       "      <td>Hisense</td>\n",
       "      <td>2022</td>\n",
       "      <td>Ultra HD (4K)</td>\n",
       "      <td>Google TV</td>\n",
       "      <td>LED</td>\n",
       "      <td>1</td>\n",
       "      <td>2</td>\n",
       "      <td>3</td>\n",
       "      <td>150807.272727</td>\n",
       "    </tr>\n",
       "    <tr>\n",
       "      <th>168</th>\n",
       "      <td>SONY</td>\n",
       "      <td>2020</td>\n",
       "      <td>Ultra HD (4K)</td>\n",
       "      <td>Android</td>\n",
       "      <td>LED</td>\n",
       "      <td>1</td>\n",
       "      <td>2</td>\n",
       "      <td>4</td>\n",
       "      <td>127606.153846</td>\n",
       "    </tr>\n",
       "  </tbody>\n",
       "</table>\n",
       "<p>304 rows × 9 columns</p>\n",
       "</div>"
      ],
      "text/plain": [
       "         Brand  launch_year Resolution_Type         os screen_type  smart_tv  \\\n",
       "228      IMPEX         2022   Ultra HD (4K)    Android         LED         1   \n",
       "152     Compaq         2021   Ultra HD (4K)    Android         LED         1   \n",
       "173         LG         2020   Ultra HD (4K)      WebOS         LED         1   \n",
       "12     Thomson         2020        HD Ready    Android         LED         1   \n",
       "13    iFFALCON         2022   Ultra HD (4K)  Google TV         LED         1   \n",
       "..         ...          ...             ...        ...         ...       ...   \n",
       "299     Sansui         2020   Ultra HD (4K)  Google TV         LED         1   \n",
       "22   Blaupunkt         2023   Ultra HD (4K)  Google TV         LED         1   \n",
       "72       CANDY         2023   Ultra HD (4K)  Google TV         LED         1   \n",
       "15     Hisense         2022   Ultra HD (4K)  Google TV         LED         1   \n",
       "168       SONY         2020   Ultra HD (4K)    Android         LED         1   \n",
       "\n",
       "     usb_count  hdmi_count  Pixels_per_Inch  \n",
       "228          2           4    127606.153846  \n",
       "152          2           3    165888.000000  \n",
       "173          3           4    150807.272727  \n",
       "12           2           3     28800.000000  \n",
       "13           1           3    165888.000000  \n",
       "..         ...         ...              ...  \n",
       "299          2           3    118491.428571  \n",
       "22           2           3    150807.272727  \n",
       "72           2           4    150807.272727  \n",
       "15           2           3    150807.272727  \n",
       "168          2           4    127606.153846  \n",
       "\n",
       "[304 rows x 9 columns]"
      ]
     },
     "execution_count": 66,
     "metadata": {},
     "output_type": "execute_result"
    }
   ],
   "source": [
    "X_train"
   ]
  },
  {
   "cell_type": "code",
   "execution_count": 67,
   "id": "76d96158",
   "metadata": {},
   "outputs": [],
   "source": [
    "from sklearn.compose import ColumnTransformer\n",
    "from sklearn.pipeline import Pipeline\n",
    "from sklearn.preprocessing import OneHotEncoder\n",
    "from sklearn.metrics import r2_score,mean_absolute_error"
   ]
  },
  {
   "cell_type": "code",
   "execution_count": 68,
   "id": "8a264ed2",
   "metadata": {},
   "outputs": [],
   "source": [
    "from sklearn.linear_model import LinearRegression,Ridge,Lasso\n",
    "from sklearn.neighbors import KNeighborsRegressor\n",
    "from sklearn.tree import DecisionTreeRegressor\n",
    "from sklearn.ensemble import RandomForestRegressor,GradientBoostingRegressor,AdaBoostRegressor,ExtraTreesRegressor\n",
    "from sklearn.svm import SVR\n",
    "from xgboost import XGBRegressor"
   ]
  },
  {
   "cell_type": "markdown",
   "id": "f51c0474",
   "metadata": {},
   "source": [
    "# Linear regression"
   ]
  },
  {
   "cell_type": "code",
   "execution_count": 69,
   "id": "5b9899d0",
   "metadata": {},
   "outputs": [
    {
     "name": "stdout",
     "output_type": "stream",
     "text": [
      "R2 score 0.8827606261921386\n",
      "MAE 0.20834765350127663\n"
     ]
    },
    {
     "name": "stderr",
     "output_type": "stream",
     "text": [
      "C:\\Users\\anuja\\AppData\\Roaming\\Python\\Python39\\site-packages\\sklearn\\preprocessing\\_encoders.py:868: FutureWarning: `sparse` was renamed to `sparse_output` in version 1.2 and will be removed in 1.4. `sparse_output` is ignored unless you leave `sparse` to its default value.\n",
      "  warnings.warn(\n"
     ]
    }
   ],
   "source": [
    "step1 = ColumnTransformer(transformers=[\n",
    "    ('col_tnf',OneHotEncoder(sparse=False,drop='first'),[0,2,3,4])\n",
    "],remainder='passthrough')\n",
    "\n",
    "step2 = LinearRegression()\n",
    "\n",
    "pipe = Pipeline([\n",
    "    ('step1',step1),\n",
    "    ('step2',step2)\n",
    "])\n",
    "\n",
    "pipe.fit(X_train,y_train)\n",
    "\n",
    "y_pred = pipe.predict(X_test)\n",
    "\n",
    "print('R2 score',r2_score(y_test,y_pred))\n",
    "print('MAE',mean_absolute_error(y_test,y_pred))"
   ]
  },
  {
   "cell_type": "markdown",
   "id": "1340c305",
   "metadata": {},
   "source": [
    "# Ridge Regression"
   ]
  },
  {
   "cell_type": "code",
   "execution_count": 70,
   "id": "0a2981c4",
   "metadata": {},
   "outputs": [
    {
     "name": "stdout",
     "output_type": "stream",
     "text": [
      "R2 score 0.8425390844563576\n",
      "MAE 0.2787028069674306\n"
     ]
    },
    {
     "name": "stderr",
     "output_type": "stream",
     "text": [
      "C:\\Users\\anuja\\AppData\\Roaming\\Python\\Python39\\site-packages\\sklearn\\preprocessing\\_encoders.py:868: FutureWarning: `sparse` was renamed to `sparse_output` in version 1.2 and will be removed in 1.4. `sparse_output` is ignored unless you leave `sparse` to its default value.\n",
      "  warnings.warn(\n"
     ]
    }
   ],
   "source": [
    "step1 = ColumnTransformer(transformers=[\n",
    "    ('col_tnf',OneHotEncoder(sparse=False,drop='first'),[0,2,3,4])\n",
    "],remainder='passthrough')\n",
    "\n",
    "step2 = Ridge(alpha=10)\n",
    "\n",
    "pipe = Pipeline([\n",
    "    ('step1',step1),\n",
    "    ('step2',step2)\n",
    "])\n",
    "\n",
    "pipe.fit(X_train,y_train)\n",
    "\n",
    "y_pred = pipe.predict(X_test)\n",
    "\n",
    "print('R2 score',r2_score(y_test,y_pred))\n",
    "print('MAE',mean_absolute_error(y_test,y_pred))"
   ]
  },
  {
   "cell_type": "markdown",
   "id": "dc87a20b",
   "metadata": {},
   "source": [
    "# Lasso Regression"
   ]
  },
  {
   "cell_type": "code",
   "execution_count": 71,
   "id": "5cd631ca",
   "metadata": {},
   "outputs": [
    {
     "name": "stdout",
     "output_type": "stream",
     "text": [
      "R2 score 0.8964052477144798\n",
      "MAE 0.20269817411348953\n"
     ]
    },
    {
     "name": "stderr",
     "output_type": "stream",
     "text": [
      "C:\\Users\\anuja\\AppData\\Roaming\\Python\\Python39\\site-packages\\sklearn\\preprocessing\\_encoders.py:868: FutureWarning: `sparse` was renamed to `sparse_output` in version 1.2 and will be removed in 1.4. `sparse_output` is ignored unless you leave `sparse` to its default value.\n",
      "  warnings.warn(\n"
     ]
    }
   ],
   "source": [
    "step1 = ColumnTransformer(transformers=[\n",
    "    ('col_tnf',OneHotEncoder(sparse=False,drop='first'),[0,2,3,4])\n",
    "],remainder='passthrough')\n",
    "\n",
    "step2 = Lasso(alpha=0.001)\n",
    "\n",
    "pipe = Pipeline([\n",
    "    ('step1',step1),\n",
    "    ('step2',step2)\n",
    "])\n",
    "\n",
    "pipe.fit(X_train,y_train)\n",
    "\n",
    "y_pred = pipe.predict(X_test)\n",
    "\n",
    "print('R2 score',r2_score(y_test,y_pred))\n",
    "print('MAE',mean_absolute_error(y_test,y_pred))"
   ]
  },
  {
   "cell_type": "markdown",
   "id": "22a87702",
   "metadata": {},
   "source": [
    "# Decision Tree"
   ]
  },
  {
   "cell_type": "code",
   "execution_count": 74,
   "id": "2ecc86cc",
   "metadata": {},
   "outputs": [
    {
     "name": "stdout",
     "output_type": "stream",
     "text": [
      "R2 score 0.878657623518818\n",
      "MAE 0.2457718014082461\n"
     ]
    },
    {
     "name": "stderr",
     "output_type": "stream",
     "text": [
      "C:\\Users\\anuja\\AppData\\Roaming\\Python\\Python39\\site-packages\\sklearn\\preprocessing\\_encoders.py:868: FutureWarning: `sparse` was renamed to `sparse_output` in version 1.2 and will be removed in 1.4. `sparse_output` is ignored unless you leave `sparse` to its default value.\n",
      "  warnings.warn(\n"
     ]
    }
   ],
   "source": [
    "step1 = ColumnTransformer(transformers=[\n",
    "    ('col_tnf',OneHotEncoder(sparse=False,drop='first'),[0,2,3,4])\n",
    "],remainder='passthrough')\n",
    "\n",
    "step2 = DecisionTreeRegressor(max_depth=8)\n",
    "\n",
    "pipe = Pipeline([\n",
    "    ('step1',step1),\n",
    "    ('step2',step2)\n",
    "])\n",
    "\n",
    "pipe.fit(X_train,y_train)\n",
    "\n",
    "y_pred = pipe.predict(X_test)\n",
    "\n",
    "print('R2 score',r2_score(y_test,y_pred))\n",
    "print('MAE',mean_absolute_error(y_test,y_pred))"
   ]
  },
  {
   "cell_type": "markdown",
   "id": "5b71eb6a",
   "metadata": {},
   "source": [
    "# SVM"
   ]
  },
  {
   "cell_type": "code",
   "execution_count": 75,
   "id": "e9ae36c0",
   "metadata": {},
   "outputs": [
    {
     "name": "stdout",
     "output_type": "stream",
     "text": [
      "R2 score 0.6432949744309324\n",
      "MAE 0.4748745624584707\n"
     ]
    },
    {
     "name": "stderr",
     "output_type": "stream",
     "text": [
      "C:\\Users\\anuja\\AppData\\Roaming\\Python\\Python39\\site-packages\\sklearn\\preprocessing\\_encoders.py:868: FutureWarning: `sparse` was renamed to `sparse_output` in version 1.2 and will be removed in 1.4. `sparse_output` is ignored unless you leave `sparse` to its default value.\n",
      "  warnings.warn(\n"
     ]
    }
   ],
   "source": [
    "step1 = ColumnTransformer(transformers=[\n",
    "    ('col_tnf',OneHotEncoder(sparse=False,drop='first'),[0,2,3,4])\n",
    "],remainder='passthrough')\n",
    "\n",
    "step2 = SVR(kernel='rbf',C=10000,epsilon=0.1)\n",
    "\n",
    "pipe = Pipeline([\n",
    "    ('step1',step1),\n",
    "    ('step2',step2)\n",
    "])\n",
    "\n",
    "pipe.fit(X_train,y_train)\n",
    "\n",
    "y_pred = pipe.predict(X_test)\n",
    "\n",
    "print('R2 score',r2_score(y_test,y_pred))\n",
    "print('MAE',mean_absolute_error(y_test,y_pred))"
   ]
  },
  {
   "cell_type": "markdown",
   "id": "293648a5",
   "metadata": {},
   "source": [
    "# Random Forest"
   ]
  },
  {
   "cell_type": "code",
   "execution_count": 76,
   "id": "bf5c8e9e",
   "metadata": {},
   "outputs": [
    {
     "name": "stdout",
     "output_type": "stream",
     "text": [
      "R2 score 0.9262639240010809\n",
      "MAE 0.2065624494585607\n"
     ]
    },
    {
     "name": "stderr",
     "output_type": "stream",
     "text": [
      "C:\\Users\\anuja\\AppData\\Roaming\\Python\\Python39\\site-packages\\sklearn\\preprocessing\\_encoders.py:868: FutureWarning: `sparse` was renamed to `sparse_output` in version 1.2 and will be removed in 1.4. `sparse_output` is ignored unless you leave `sparse` to its default value.\n",
      "  warnings.warn(\n"
     ]
    }
   ],
   "source": [
    "#Random Forest\n",
    "step1 = ColumnTransformer(transformers=[\n",
    "    ('col_tnf',OneHotEncoder(sparse=False,drop='first'),[0,2,3,4])\n",
    "],remainder='passthrough')\n",
    "\n",
    "step2 = RandomForestRegressor(n_estimators=100,\n",
    "                              random_state=3,\n",
    "                              max_samples=0.5,\n",
    "                              max_features=0.75,\n",
    "                              max_depth=15)\n",
    "\n",
    "pipe = Pipeline([\n",
    "    ('step1',step1),\n",
    "    ('step2',step2)\n",
    "])\n",
    "\n",
    "pipe.fit(X_train,y_train)\n",
    "\n",
    "y_pred = pipe.predict(X_test)\n",
    "\n",
    "print('R2 score',r2_score(y_test,y_pred))\n",
    "print('MAE',mean_absolute_error(y_test,y_pred))"
   ]
  },
  {
   "cell_type": "markdown",
   "id": "a777ed25",
   "metadata": {},
   "source": [
    "# AdaBoost"
   ]
  },
  {
   "cell_type": "code",
   "execution_count": 77,
   "id": "ff46e788",
   "metadata": {},
   "outputs": [
    {
     "name": "stdout",
     "output_type": "stream",
     "text": [
      "R2 score 0.8541802868769802\n",
      "MAE 0.3015927426015943\n"
     ]
    },
    {
     "name": "stderr",
     "output_type": "stream",
     "text": [
      "C:\\Users\\anuja\\AppData\\Roaming\\Python\\Python39\\site-packages\\sklearn\\preprocessing\\_encoders.py:868: FutureWarning: `sparse` was renamed to `sparse_output` in version 1.2 and will be removed in 1.4. `sparse_output` is ignored unless you leave `sparse` to its default value.\n",
      "  warnings.warn(\n"
     ]
    }
   ],
   "source": [
    "#AdaBoost\n",
    "step1 = ColumnTransformer(transformers=[\n",
    "    ('col_tnf',OneHotEncoder(sparse=False,drop='first'),[0,2,3,4])\n",
    "],remainder='passthrough')\n",
    "\n",
    "step2 = AdaBoostRegressor(n_estimators=15,learning_rate=1.0)\n",
    "\n",
    "pipe = Pipeline([\n",
    "    ('step1',step1),\n",
    "    ('step2',step2)\n",
    "])\n",
    "\n",
    "pipe.fit(X_train,y_train)\n",
    "\n",
    "y_pred = pipe.predict(X_test)\n",
    "\n",
    "print('R2 score',r2_score(y_test,y_pred))\n",
    "print('MAE',mean_absolute_error(y_test,y_pred))"
   ]
  },
  {
   "cell_type": "markdown",
   "id": "ada834e8",
   "metadata": {},
   "source": [
    "# Gradient Boost"
   ]
  },
  {
   "cell_type": "code",
   "execution_count": 82,
   "id": "5729db1e",
   "metadata": {},
   "outputs": [
    {
     "name": "stderr",
     "output_type": "stream",
     "text": [
      "C:\\Users\\anuja\\AppData\\Roaming\\Python\\Python39\\site-packages\\sklearn\\preprocessing\\_encoders.py:868: FutureWarning: `sparse` was renamed to `sparse_output` in version 1.2 and will be removed in 1.4. `sparse_output` is ignored unless you leave `sparse` to its default value.\n",
      "  warnings.warn(\n"
     ]
    },
    {
     "name": "stdout",
     "output_type": "stream",
     "text": [
      "R2 score 0.936579406833475\n",
      "MAE 0.16222491063348946\n"
     ]
    }
   ],
   "source": [
    "#Gradient Boost\n",
    "step1 = ColumnTransformer(transformers=[\n",
    "    ('col_tnf',OneHotEncoder(sparse=False,drop='first'),[0,2,3,4])\n",
    "],remainder='passthrough')\n",
    "\n",
    "step2 = GradientBoostingRegressor(n_estimators=500)\n",
    "\n",
    "pipe = Pipeline([\n",
    "    ('step1',step1),\n",
    "    ('step2',step2)\n",
    "])\n",
    "\n",
    "pipe.fit(X_train,y_train)\n",
    "\n",
    "y_pred = pipe.predict(X_test)\n",
    "\n",
    "print('R2 score',r2_score(y_test,y_pred))\n",
    "print('MAE',mean_absolute_error(y_test,y_pred))"
   ]
  },
  {
   "cell_type": "markdown",
   "id": "9dac54d8",
   "metadata": {},
   "source": [
    "# XgBoost"
   ]
  },
  {
   "cell_type": "code",
   "execution_count": 79,
   "id": "36d74942",
   "metadata": {},
   "outputs": [
    {
     "name": "stdout",
     "output_type": "stream",
     "text": [
      "R2 score 0.8949666722579541\n",
      "MAE 0.17707650321545845\n"
     ]
    },
    {
     "name": "stderr",
     "output_type": "stream",
     "text": [
      "C:\\Users\\anuja\\AppData\\Roaming\\Python\\Python39\\site-packages\\sklearn\\preprocessing\\_encoders.py:868: FutureWarning: `sparse` was renamed to `sparse_output` in version 1.2 and will be removed in 1.4. `sparse_output` is ignored unless you leave `sparse` to its default value.\n",
      "  warnings.warn(\n"
     ]
    }
   ],
   "source": [
    "step1 = ColumnTransformer(transformers=[\n",
    "    ('col_tnf',OneHotEncoder(sparse=False,drop='first'),[0,2,3,4])\n",
    "],remainder='passthrough')\n",
    "\n",
    "step2 = XGBRegressor(n_estimators=45,max_depth=5,learning_rate=0.5)\n",
    "\n",
    "pipe = Pipeline([\n",
    "    ('step1',step1),\n",
    "    ('step2',step2)\n",
    "])\n",
    "\n",
    "pipe.fit(X_train,y_train)\n",
    "\n",
    "y_pred = pipe.predict(X_test)\n",
    "\n",
    "print('R2 score',r2_score(y_test,y_pred))\n",
    "print('MAE',mean_absolute_error(y_test,y_pred))"
   ]
  },
  {
   "cell_type": "markdown",
   "id": "78ed0cf6",
   "metadata": {},
   "source": [
    "# Exporting the model\n"
   ]
  },
  {
   "cell_type": "code",
   "execution_count": 83,
   "id": "be332e46",
   "metadata": {},
   "outputs": [],
   "source": [
    "import pickle"
   ]
  },
  {
   "cell_type": "code",
   "execution_count": 84,
   "id": "7392bfcd",
   "metadata": {},
   "outputs": [],
   "source": [
    "pickle.dump(df,open('df.pkl','wb'))\n",
    "pickle.dump(pipe,open('pipe.pkl','wb'))"
   ]
  },
  {
   "cell_type": "code",
   "execution_count": null,
   "id": "3ec2bdf3",
   "metadata": {},
   "outputs": [],
   "source": []
  },
  {
   "cell_type": "code",
   "execution_count": null,
   "id": "eb889449",
   "metadata": {},
   "outputs": [],
   "source": []
  },
  {
   "cell_type": "code",
   "execution_count": 85,
   "id": "30732652",
   "metadata": {},
   "outputs": [
    {
     "name": "stdout",
     "output_type": "stream",
     "text": [
      "scikit-learn version: 1.2.2\n",
      "joblib version: 1.3.2\n"
     ]
    }
   ],
   "source": [
    "import sklearn\n",
    "import joblib\n",
    "\n",
    "print(\"scikit-learn version:\", sklearn.__version__)\n",
    "print(\"joblib version:\", joblib.__version__)"
   ]
  },
  {
   "cell_type": "code",
   "execution_count": null,
   "id": "cd8744e6",
   "metadata": {},
   "outputs": [],
   "source": []
  },
  {
   "cell_type": "code",
   "execution_count": null,
   "id": "307cdecd",
   "metadata": {},
   "outputs": [],
   "source": []
  },
  {
   "cell_type": "code",
   "execution_count": null,
   "id": "39338c50",
   "metadata": {},
   "outputs": [],
   "source": []
  },
  {
   "cell_type": "code",
   "execution_count": null,
   "id": "46fe94f2",
   "metadata": {},
   "outputs": [],
   "source": []
  },
  {
   "cell_type": "code",
   "execution_count": null,
   "id": "620d14d0",
   "metadata": {},
   "outputs": [],
   "source": []
  },
  {
   "cell_type": "code",
   "execution_count": null,
   "id": "d437eb43",
   "metadata": {},
   "outputs": [],
   "source": []
  },
  {
   "cell_type": "code",
   "execution_count": null,
   "id": "9e50e008",
   "metadata": {},
   "outputs": [],
   "source": []
  },
  {
   "cell_type": "code",
   "execution_count": null,
   "id": "359fbdb2",
   "metadata": {},
   "outputs": [],
   "source": []
  }
 ],
 "metadata": {
  "kernelspec": {
   "display_name": "Python 3 (ipykernel)",
   "language": "python",
   "name": "python3"
  },
  "language_info": {
   "codemirror_mode": {
    "name": "ipython",
    "version": 3
   },
   "file_extension": ".py",
   "mimetype": "text/x-python",
   "name": "python",
   "nbconvert_exporter": "python",
   "pygments_lexer": "ipython3",
   "version": "3.9.12"
  }
 },
 "nbformat": 4,
 "nbformat_minor": 5
}
